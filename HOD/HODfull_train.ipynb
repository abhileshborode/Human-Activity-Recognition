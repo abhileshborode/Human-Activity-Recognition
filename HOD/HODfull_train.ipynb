{
 "cells": [
  {
   "cell_type": "code",
   "execution_count": 1,
   "metadata": {},
   "outputs": [],
   "source": [
    "from svmutil import *\n",
    "import os\n",
    "import numpy as np\n",
    "import sys\n",
    "sys.path.append('/home/abhilesh/libsvm/')\n",
    "import csv"
   ]
  },
  {
   "cell_type": "code",
   "execution_count": 2,
   "metadata": {},
   "outputs": [],
   "source": [
    "# It Starts Here"
   ]
  },
  {
   "cell_type": "code",
   "execution_count": 3,
   "metadata": {},
   "outputs": [
    {
     "data": {
      "text/plain": [
       "(192, 3360)"
      ]
     },
     "execution_count": 3,
     "metadata": {},
     "output_type": "execute_result"
    }
   ],
   "source": [
    "data=np.genfromtxt('hod_d1',dtype='float')\n",
    "data.shape\n"
   ]
  },
  {
   "cell_type": "code",
   "execution_count": 4,
   "metadata": {},
   "outputs": [],
   "source": [
    "data=np.genfromtxt('hod_d1',dtype='float')\n",
    "ndata=[]\n",
    "c=np.zeros((1,3360))\n",
    "data.shape\n",
    "ndatas=[]\n",
    "ndatass=[]\n",
    "\n",
    "ad=[]\n",
    "e=0\n",
    "b=12\n",
    "for i in  range(12,204,12):\n",
    "    for k in range(e,i):\n",
    "        c=data[k,0:]\n",
    "\n",
    "        \n",
    "        for j in range(3360):\n",
    "            #data[i,j]=str(data[i,j])\n",
    "            #c[i,j]=np.insert((str(j)+ \":\" + str(data[i,j])))\n",
    "            ndata.append(str(j)+ \":\" + str(c[j]))\n",
    "\n",
    "\n",
    "\n",
    "        ndatas.append(ndata) #append elements to rows\n",
    "        ndata=[] \n",
    "    ndatass.append(ndatas)  # append matrix with same label\n",
    "    ndatas=[]\n",
    "    e=i\n",
    "        \n",
    "        \n",
    "        "
   ]
  },
  {
   "cell_type": "code",
   "execution_count": null,
   "metadata": {},
   "outputs": [],
   "source": []
  },
  {
   "cell_type": "code",
   "execution_count": null,
   "metadata": {},
   "outputs": [],
   "source": []
  },
  {
   "cell_type": "code",
   "execution_count": 5,
   "metadata": {},
   "outputs": [],
   "source": [
    "a1=np.array(ndatass[0])\n",
    "a2=np.array(ndatass[1])\n",
    "a3=np.array(ndatass[2])\n",
    "a4=np.array(ndatass[3])\n",
    "a5=np.array(ndatass[4])\n",
    "a6=np.array(ndatass[5])\n",
    "a7=np.array(ndatass[6])\n",
    "a8=np.array(ndatass[7])\n",
    "a9=np.array(ndatass[8])\n",
    "a10=np.array(ndatass[9])\n",
    "a11=np.array(ndatass[10])\n",
    "a12=np.array(ndatass[11])\n",
    "a13=np.array(ndatass[12])\n",
    "a14=np.array(ndatass[13])\n",
    "a15=np.array(ndatass[14])\n",
    "a16=np.array(ndatass[15])\n",
    "\n",
    "\n"
   ]
  },
  {
   "cell_type": "code",
   "execution_count": 6,
   "metadata": {},
   "outputs": [],
   "source": [
    "add1= 1 * np.ones((12,1),dtype= 'int')\n",
    "add2= 2 * np.ones((12,1),dtype= 'int')\n",
    "add3= 3 * np.ones((12,1),dtype= 'int')\n",
    "add4= 4 * np.ones((12,1),dtype= 'int')\n",
    "add5= 5 * np.ones((12,1),dtype= 'int')\n",
    "add6= 6 * np.ones((12,1),dtype= 'int')\n",
    "add7= 7 * np.ones((12,1),dtype= 'int')\n",
    "add8= 8 * np.ones((12,1),dtype= 'int')\n",
    "add9= 9 * np.ones((12,1),dtype= 'int')\n",
    "add10= 10 * np.ones((12,1),dtype= 'int')\n",
    "add11= 11 * np.ones((12,1),dtype= 'int')\n",
    "add12= 12 * np.ones((12,1),dtype= 'int')\n",
    "add13= 13 * np.ones((12,1),dtype= 'int')\n",
    "add14= 14 * np.ones((12,1),dtype= 'int')\n",
    "add15= 15 * np.ones((12,1),dtype= 'int')\n",
    "add16= 16 * np.ones((12,1),dtype= 'int')\n",
    "\n",
    "\n",
    "\n",
    "cc1=np.column_stack((add1,a1))\n",
    "cc2=np.column_stack((add2,a2))\n",
    "cc3=np.column_stack((add3,a3))\n",
    "cc4=np.column_stack((add4,a4))\n",
    "cc5=np.column_stack((add5,a5))\n",
    "cc6=np.column_stack((add6,a6))\n",
    "\n",
    "cc7=np.column_stack((add7,a7))\n",
    "cc8=np.column_stack((add8,a8))\n",
    "cc9=np.column_stack((add9,a9))\n",
    "cc10=np.column_stack((add10,a10))\n",
    "cc11=np.column_stack((add11,a11))\n",
    "cc12=np.column_stack((add12,a12))\n",
    "\n",
    "cc13=np.column_stack((add13,a13))\n",
    "cc14=np.column_stack((add14,a14))\n",
    "cc15=np.column_stack((add15,a15))\n",
    "cc16=np.column_stack((add16,a16))\n"
   ]
  },
  {
   "cell_type": "code",
   "execution_count": 7,
   "metadata": {},
   "outputs": [
    {
     "name": "stdout",
     "output_type": "stream",
     "text": [
      "(192, 3361)\n"
     ]
    }
   ],
   "source": [
    "w=np.vstack((cc1,cc2))\n",
    "w=np.vstack((w,cc3))\n",
    "w=np.vstack((w,cc4))\n",
    "w=np.vstack((w,cc5))\n",
    "w=np.vstack((w,cc6))\n",
    "w=np.vstack((w,cc7))\n",
    "w=np.vstack((w,cc8))\n",
    "w=np.vstack((w,cc9))\n",
    "w=np.vstack((w,cc10))\n",
    "w=np.vstack((w,cc11))\n",
    "w=np.vstack((w,cc12))\n",
    "w=np.vstack((w,cc13))\n",
    "w=np.vstack((w,cc14))\n",
    "w=np.vstack((w,cc15))\n",
    "w=np.vstack((w,cc16))\n",
    "\n",
    "print(w.shape)"
   ]
  },
  {
   "cell_type": "code",
   "execution_count": 8,
   "metadata": {},
   "outputs": [],
   "source": [
    "np.savetxt('hod_d2', w, delimiter=\" \", fmt=\"%s\") "
   ]
  },
  {
   "cell_type": "code",
   "execution_count": null,
   "metadata": {},
   "outputs": [],
   "source": []
  },
  {
   "cell_type": "code",
   "execution_count": null,
   "metadata": {},
   "outputs": [],
   "source": []
  }
 ],
 "metadata": {
  "kernelspec": {
   "display_name": "Python 2",
   "language": "python",
   "name": "python2"
  },
  "language_info": {
   "codemirror_mode": {
    "name": "ipython",
    "version": 2
   },
   "file_extension": ".py",
   "mimetype": "text/x-python",
   "name": "python",
   "nbconvert_exporter": "python",
   "pygments_lexer": "ipython2",
   "version": "2.7.12"
  }
 },
 "nbformat": 4,
 "nbformat_minor": 2
}
