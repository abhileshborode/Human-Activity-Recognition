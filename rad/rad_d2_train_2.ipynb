{
 "cells": [
  {
   "cell_type": "code",
   "execution_count": 2,
   "metadata": {},
   "outputs": [],
   "source": [
    "from svmutil import *\n",
    "import os\n",
    "import numpy as np\n",
    "import sys\n",
    "sys.path.append('/home/abhilesh/libsvm/')\n",
    "import csv"
   ]
  },
  {
   "cell_type": "code",
   "execution_count": null,
   "metadata": {},
   "outputs": [],
   "source": [
    "# It Starts Here"
   ]
  },
  {
   "cell_type": "code",
   "execution_count": null,
   "metadata": {},
   "outputs": [],
   "source": [
    "data=np.genfromtxt('rad_d1.2',dtype='float')\n"
   ]
  },
  {
   "cell_type": "code",
   "execution_count": 3,
   "metadata": {},
   "outputs": [],
   "source": [
    "data=np.genfromtxt('train.3',dtype='float')\n",
    "ndata=[]\n",
    "c=np.zeros((1,100))\n",
    "data.shape\n",
    "ndatas=[]\n",
    "ndatass=[]\n",
    "\n",
    "ad=[]\n",
    "e=0\n",
    "b=12\n",
    "for i in  range(12,84,12):\n",
    "    for k in range(e,i):\n",
    "        c=data[k,0:]\n",
    "\n",
    "        \n",
    "        for j in range(100):\n",
    "            #data[i,j]=str(data[i,j])\n",
    "            #c[i,j]=np.insert((str(j)+ \":\" + str(data[i,j])))\n",
    "            ndata.append(str(j)+ \":\" + str(c[j]))\n",
    "\n",
    "\n",
    "\n",
    "        ndatas.append(ndata) #append elements to rows\n",
    "        ndata=[] \n",
    "    ndatass.append(ndatas)  # append matrix with same label\n",
    "    ndatas=[]\n",
    "    e=i\n",
    "        \n",
    "        \n",
    "        "
   ]
  },
  {
   "cell_type": "code",
   "execution_count": null,
   "metadata": {},
   "outputs": [],
   "source": []
  },
  {
   "cell_type": "code",
   "execution_count": null,
   "metadata": {},
   "outputs": [],
   "source": []
  },
  {
   "cell_type": "code",
   "execution_count": 4,
   "metadata": {},
   "outputs": [],
   "source": [
    "a1=np.array(ndatass[0])\n",
    "a2=np.array(ndatass[1])\n",
    "a3=np.array(ndatass[2])\n",
    "a4=np.array(ndatass[3])\n",
    "a5=np.array(ndatass[4])\n",
    "a6=np.array(ndatass[5])\n"
   ]
  },
  {
   "cell_type": "code",
   "execution_count": 5,
   "metadata": {},
   "outputs": [],
   "source": [
    "add1= 8 * np.ones((12,1),dtype= 'int')\n",
    "add2= 10 * np.ones((12,1),dtype= 'int')\n",
    "add3= 12 * np.ones((12,1),dtype= 'int')\n",
    "add4= 13 * np.ones((12,1),dtype= 'int')\n",
    "add5= 15 * np.ones((12,1),dtype= 'int')\n",
    "add6= 16 * np.ones((12,1),dtype= 'int')\n",
    "\n",
    "\n",
    "cc1=np.column_stack((add1,a1))\n",
    "cc2=np.column_stack((add2,a2))\n",
    "cc3=np.column_stack((add3,a3))\n",
    "cc4=np.column_stack((add4,a4))\n",
    "cc5=np.column_stack((add5,a5))\n",
    "cc6=np.column_stack((add6,a6))"
   ]
  },
  {
   "cell_type": "code",
   "execution_count": 6,
   "metadata": {},
   "outputs": [
    {
     "name": "stdout",
     "output_type": "stream",
     "text": [
      "(72, 101)\n"
     ]
    }
   ],
   "source": [
    "w=np.vstack((cc1,cc2))\n",
    "w=np.vstack((w,cc3))\n",
    "w=np.vstack((w,cc4))\n",
    "w=np.vstack((w,cc5))\n",
    "w=np.vstack((w,cc6))\n",
    "print(w.shape)"
   ]
  },
  {
   "cell_type": "code",
   "execution_count": 7,
   "metadata": {},
   "outputs": [],
   "source": [
    "np.savetxt('train.3lib', w, delimiter=\" \", fmt=\"%s\") "
   ]
  },
  {
   "cell_type": "code",
   "execution_count": null,
   "metadata": {},
   "outputs": [],
   "source": []
  },
  {
   "cell_type": "code",
   "execution_count": null,
   "metadata": {},
   "outputs": [],
   "source": []
  }
 ],
 "metadata": {
  "kernelspec": {
   "display_name": "Python 2",
   "language": "python",
   "name": "python2"
  },
  "language_info": {
   "codemirror_mode": {
    "name": "ipython",
    "version": 2
   },
   "file_extension": ".py",
   "mimetype": "text/x-python",
   "name": "python",
   "nbconvert_exporter": "python",
   "pygments_lexer": "ipython2",
   "version": "2.7.12"
  }
 },
 "nbformat": 4,
 "nbformat_minor": 2
}
